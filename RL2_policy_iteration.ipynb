{
  "nbformat": 4,
  "nbformat_minor": 0,
  "metadata": {
    "colab": {
      "provenance": [],
      "include_colab_link": true
    },
    "kernelspec": {
      "name": "python3",
      "display_name": "Python 3"
    },
    "language_info": {
      "name": "python"
    }
  },
  "cells": [
    {
      "cell_type": "markdown",
      "metadata": {
        "id": "view-in-github",
        "colab_type": "text"
      },
      "source": [
        "<a href=\"https://colab.research.google.com/github/akshat-d-jain/Reinforcement-Learning/blob/main/RL2_policy_iteration.ipynb\" target=\"_parent\"><img src=\"https://colab.research.google.com/assets/colab-badge.svg\" alt=\"Open In Colab\"/></a>"
      ]
    },
    {
      "cell_type": "code",
      "execution_count": null,
      "metadata": {
        "id": "hKH7cDZZuOt9",
        "colab": {
          "base_uri": "https://localhost:8080/"
        },
        "outputId": "f1c6fc8b-44e1-42ea-f05f-0dcfc4893387"
      },
      "outputs": [
        {
          "output_type": "stream",
          "name": "stderr",
          "text": [
            "/usr/local/lib/python3.11/dist-packages/pygame/pkgdata.py:25: DeprecationWarning: pkg_resources is deprecated as an API. See https://setuptools.pypa.io/en/latest/pkg_resources.html\n",
            "  from pkg_resources import resource_stream, resource_exists\n",
            "/usr/local/lib/python3.11/dist-packages/pkg_resources/__init__.py:3154: DeprecationWarning: Deprecated call to `pkg_resources.declare_namespace('google')`.\n",
            "Implementing implicit namespace packages (as specified in PEP 420) is preferred to `pkg_resources.declare_namespace`. See https://setuptools.pypa.io/en/latest/references/keywords.html#keyword-namespace-packages\n",
            "  declare_namespace(pkg)\n",
            "/usr/local/lib/python3.11/dist-packages/pkg_resources/__init__.py:3154: DeprecationWarning: Deprecated call to `pkg_resources.declare_namespace('google.cloud')`.\n",
            "Implementing implicit namespace packages (as specified in PEP 420) is preferred to `pkg_resources.declare_namespace`. See https://setuptools.pypa.io/en/latest/references/keywords.html#keyword-namespace-packages\n",
            "  declare_namespace(pkg)\n",
            "/usr/local/lib/python3.11/dist-packages/pkg_resources/__init__.py:3154: DeprecationWarning: Deprecated call to `pkg_resources.declare_namespace('sphinxcontrib')`.\n",
            "Implementing implicit namespace packages (as specified in PEP 420) is preferred to `pkg_resources.declare_namespace`. See https://setuptools.pypa.io/en/latest/references/keywords.html#keyword-namespace-packages\n",
            "  declare_namespace(pkg)\n",
            "/usr/local/lib/python3.11/dist-packages/gym/core.py:43: DeprecationWarning: \u001b[33mWARN: The argument mode in render method is deprecated; use render_mode during environment initialization instead.\n",
            "See here for more information: https://www.gymlibrary.ml/content/api/\u001b[0m\n",
            "  deprecation(\n",
            "/content/utils.py:247: DeprecationWarning: invalid escape sequence '\\p'\n",
            "  plt.title(\"$\\pi(s)$\", size=16)\n"
          ]
        }
      ],
      "source": [
        "import numpy as np\n",
        "import matplotlib.pyplot as plt\n",
        "from envs import Maze\n",
        "from utils import plot_policy, plot_values, test_agent\n"
      ]
    },
    {
      "cell_type": "code",
      "source": [
        "env=Maze()"
      ],
      "metadata": {
        "id": "c31-rqFHzJQD",
        "colab": {
          "base_uri": "https://localhost:8080/"
        },
        "outputId": "87974b7c-c99f-4d11-f257-933a2beb464d"
      },
      "execution_count": null,
      "outputs": [
        {
          "output_type": "stream",
          "name": "stderr",
          "text": [
            "/usr/local/lib/python3.11/dist-packages/ipykernel/ipkernel.py:283: DeprecationWarning: `should_run_async` will not call `transform_cell` automatically in the future. Please pass the result to `transformed_cell` argument and any exception that happen during thetransform in `preprocessing_exc_tuple` in IPython 7.17 and above.\n",
            "  and should_run_async(code)\n"
          ]
        }
      ]
    },
    {
      "cell_type": "code",
      "source": [
        "frame=env.render(mode='rgb_array')\n",
        "plt.axis('off')\n",
        "plt.imshow(frame)"
      ],
      "metadata": {
        "colab": {
          "base_uri": "https://localhost:8080/",
          "height": 495
        },
        "id": "o-cxGY1NzLny",
        "outputId": "04109536-3d41-4ca4-9288-4693bfcc5aab"
      },
      "execution_count": null,
      "outputs": [
        {
          "output_type": "stream",
          "name": "stderr",
          "text": [
            "/usr/local/lib/python3.11/dist-packages/gym/core.py:43: DeprecationWarning: \u001b[33mWARN: The argument mode in render method is deprecated; use render_mode during environment initialization instead.\n",
            "See here for more information: https://www.gymlibrary.ml/content/api/\u001b[0m\n",
            "  deprecation(\n"
          ]
        },
        {
          "output_type": "execute_result",
          "data": {
            "text/plain": [
              "<matplotlib.image.AxesImage at 0x79386f476590>"
            ]
          },
          "metadata": {},
          "execution_count": 3
        },
        {
          "output_type": "display_data",
          "data": {
            "text/plain": [
              "<Figure size 640x480 with 1 Axes>"
            ],
            "image/png": "[encoded data removed]"
          },
          "metadata": {}
        }
      ]
    },
    {
      "cell_type": "code",
      "source": [
        "print(f\"Observation space shape: {env.observation_space.nvec}\")\n",
        "print(f\"No of actions: {env.action_space.n}\")"
      ],
      "metadata": {
        "colab": {
          "base_uri": "https://localhost:8080/"
        },
        "id": "EEnYQcJSwDfk",
        "outputId": "c34c6895-33ec-431f-df3d-5fb77b31d7c7"
      },
      "execution_count": null,
      "outputs": [
        {
          "output_type": "stream",
          "name": "stdout",
          "text": [
            "Observation space shape: [5 5]\n",
            "No of actions: 4\n"
          ]
        }
      ]
    },
    {
      "cell_type": "code",
      "source": [
        "policy_probs=np.full((5,5,4), 0.25)"
      ],
      "metadata": {
        "id": "20gKXbbUz2Zy"
      },
      "execution_count": null,
      "outputs": []
    },
    {
      "cell_type": "code",
      "source": [
        "def policy(state):\n",
        "  return policy_probs[state]\n"
      ],
      "metadata": {
        "id": "F7fQVGPC0TTo"
      },
      "execution_count": null,
      "outputs": []
    },
    {
      "cell_type": "code",
      "source": [
        "action_probabilities=policy((0,1))\n",
        "for action, prob in zip(range(4), action_probabilities):\n",
        "  print(f\"Probability of taking an action {action}: {prob}\")"
      ],
      "metadata": {
        "colab": {
          "base_uri": "https://localhost:8080/"
        },
        "id": "QriS8NK10gNq",
        "outputId": "0aacf48e-1d26-42e9-a36f-e2e4589398e5"
      },
      "execution_count": null,
      "outputs": [
        {
          "output_type": "stream",
          "name": "stdout",
          "text": [
            "Probability of taking an action 0: 0.25\n",
            "Probability of taking an action 1: 0.25\n",
            "Probability of taking an action 2: 0.25\n",
            "Probability of taking an action 3: 0.25\n"
          ]
        }
      ]
    },
    {
      "cell_type": "code",
      "source": [
        "test_agent(env, policy, episodes=1)"
      ],
      "metadata": {
        "colab": {
          "base_uri": "https://localhost:8080/",
          "height": 653
        },
        "id": "sF2jIVuT16Bm",
        "outputId": "841f6343-be85-4d2a-ce19-b81f55eeed01"
      },
      "execution_count": null,
      "outputs": [
        {
          "output_type": "display_data",
          "data": {
            "text/plain": [
              "<Figure size 800x800 with 1 Axes>"
            ],
            "image/png": "[encoded data removed]"
          },
          "metadata": {}
        }
      ]
    },
    {
      "cell_type": "code",
      "source": [
        "#plot_policy(policy_probs, frame)"
      ],
      "metadata": {
        "id": "l_Wz4q8Y0w5d"
      },
      "execution_count": null,
      "outputs": []
    },
    {
      "cell_type": "code",
      "source": [
        "state_values=np.zeros((5,5))"
      ],
      "metadata": {
        "id": "jD7LTCbu2Cx8"
      },
      "execution_count": null,
      "outputs": []
    },
    {
      "cell_type": "code",
      "source": [
        "def policy_evaluation(policy_probs, state_values, theta=1e-6, gamma=0.99):\n",
        "  delta=float(\"inf\")\n",
        "\n",
        "  while delta>theta:\n",
        "    delta=0\n",
        "\n",
        "    for row in range(5):\n",
        "      for col in range(5):\n",
        "        old_value=state_values[(row, col)]\n",
        "        new_value=0\n",
        "        action_probabilities=policy_probs[(row, col)]\n",
        "\n",
        "        for action, prob in enumerate( action_probabilities):\n",
        "          next_state, reward, _, _=env.simulate_step((row, col), action)\n",
        "          new_value += prob * (reward + gamma * state_values[next_state])\n",
        "\n",
        "        state_values[(row, col)]=new_value\n",
        "        delta=max(delta, abs(old_value-new_value))\n",
        "\n",
        "  return state_values\n",
        "\n"
      ],
      "metadata": {
        "id": "pHll06NV2Jwk"
      },
      "execution_count": null,
      "outputs": []
    },
    {
      "cell_type": "code",
      "source": [
        "def policy_improvement(policy_probs, state_values, gamma=0.99):\n",
        "\n",
        "  policy_stable=True\n",
        "\n",
        "  for row in range(5):\n",
        "    for col in range(5):\n",
        "      old_action = policy_probs[(row, col)].argmax()\n",
        "\n",
        "      new_action = None\n",
        "      max_qsa = float(\"-inf\")\n",
        "\n",
        "      for action in range(4):\n",
        "        next_state, reward, _, _ = env.simulate_step((row, col), action)\n",
        "        qsa = reward + gamma * state_values[next_state]\n",
        "        if qsa > max_qsa:\n",
        "          max_qsa = qsa\n",
        "          new_action = action\n",
        "\n",
        "      action_probs = np.zeros(4)\n",
        "      action_probs[new_action] = 1\n",
        "      policy_probs[(row, col)] = action_probs\n",
        "\n",
        "      if old_action != new_action:\n",
        "        policy_stable = False\n",
        "\n",
        "  return policy_stable"
      ],
      "metadata": {
        "id": "Wol8Twe638Zy"
      },
      "execution_count": null,
      "outputs": []
    },
    {
      "cell_type": "code",
      "source": [
        "def policy_iteration(policy_probs, state_values, theta=1e-6, gamma=0.99):\n",
        "  policy_stable=False\n",
        "\n",
        "  while not policy_stable:\n",
        "    state_values=policy_evaluation(policy_probs, state_values, theta, gamma)\n",
        "    policy_stable=policy_improvement(policy_probs, state_values, gamma)\n",
        "\n",
        "  return policy_probs, state_values"
      ],
      "metadata": {
        "id": "0264yak_6GL-"
      },
      "execution_count": null,
      "outputs": []
    },
    {
      "cell_type": "code",
      "source": [
        "policy_iteration(policy_probs, state_values)"
      ],
      "metadata": {
        "colab": {
          "base_uri": "https://localhost:8080/"
        },
        "id": "WaNeZ5w26Y12",
        "outputId": "d6628564-65be-4fb9-db92-417c200b897d"
      },
      "execution_count": null,
      "outputs": [
        {
          "output_type": "execute_result",
          "data": {
            "text/plain": [
              "(array([[[0., 0., 1., 0.],\n",
              "         [0., 0., 0., 1.],\n",
              "         [0., 0., 0., 1.],\n",
              "         [0., 0., 0., 1.],\n",
              "         [0., 0., 0., 1.]],\n",
              " \n",
              "        [[0., 0., 1., 0.],\n",
              "         [1., 0., 0., 0.],\n",
              "         [0., 0., 1., 0.],\n",
              "         [1., 0., 0., 0.],\n",
              "         [1., 0., 0., 0.]],\n",
              " \n",
              "        [[0., 0., 1., 0.],\n",
              "         [1., 0., 0., 0.],\n",
              "         [0., 1., 0., 0.],\n",
              "         [1., 0., 0., 0.],\n",
              "         [1., 0., 0., 0.]],\n",
              " \n",
              "        [[0., 0., 1., 0.],\n",
              "         [1., 0., 0., 0.],\n",
              "         [0., 1., 0., 0.],\n",
              "         [0., 1., 0., 0.],\n",
              "         [0., 0., 1., 0.]],\n",
              " \n",
              "        [[0., 1., 0., 0.],\n",
              "         [0., 1., 0., 0.],\n",
              "         [1., 0., 0., 0.],\n",
              "         [0., 1., 0., 0.],\n",
              "         [0., 1., 0., 0.]]]),\n",
              " array([[-9.56189012e+00, -1.04662712e+01, -1.13616085e+01,\n",
              "         -1.22479924e+01, -1.31255125e+01],\n",
              "        [-8.64837287e+00, -1.13616085e+01, -1.57057735e+01,\n",
              "         -1.31255125e+01, -1.39942574e+01],\n",
              "        [-7.72562818e+00, -1.22479924e+01, -1.48543157e+01,\n",
              "         -1.39942574e+01, -1.48543148e+01],\n",
              "        [-6.79356283e+00, -1.31255125e+01, -2.97019861e+00,\n",
              "         -1.99009861e+00, -1.00009861e+00],\n",
              "        [-5.85208268e+00, -4.90109263e+00, -3.94049662e+00,\n",
              "         -1.00009861e+00, -9.86059949e-05]]))"
            ]
          },
          "metadata": {},
          "execution_count": 19
        }
      ]
    },
    {
      "cell_type": "code",
      "source": [
        "plot_values(state_values, frame)"
      ],
      "metadata": {
        "colab": {
          "base_uri": "https://localhost:8080/",
          "height": 388
        },
        "id": "GrQFSHdh6br1",
        "outputId": "3081e2e9-c2ee-4236-a024-245fc49c0f28"
      },
      "execution_count": null,
      "outputs": [
        {
          "output_type": "display_data",
          "data": {
            "text/plain": [
              "<Figure size 1200x500 with 3 Axes>"
            ],
            "image/png": "[encoded data removed]"
          },
          "metadata": {}
        }
      ]
    },
    {
      "cell_type": "code",
      "source": [
        "plot_policy(policy_probs, frame)"
      ],
      "metadata": {
        "id": "tRwuRbkp82GA"
      },
      "execution_count": null,
      "outputs": []
    },
    {
      "cell_type": "code",
      "source": [
        "test_agent(env, policy, episodes=3)"
      ],
      "metadata": {
        "colab": {
          "base_uri": "https://localhost:8080/",
          "height": 653
        },
        "id": "CBkUX6Aj8ySB",
        "outputId": "98c3cd25-87d5-4e78-93c6-1b804fba0ebd"
      },
      "execution_count": null,
      "outputs": [
        {
          "output_type": "display_data",
          "data": {
            "text/plain": [
              "<Figure size 800x800 with 1 Axes>"
            ],
            "image/png": "[encoded data removed]"
          },
          "metadata": {}
        }
      ]
    },
    {
      "cell_type": "code",
      "source": [],
      "metadata": {
        "id": "S3W_kR8i86As"
      },
      "execution_count": null,
      "outputs": []
    }
  ]
}